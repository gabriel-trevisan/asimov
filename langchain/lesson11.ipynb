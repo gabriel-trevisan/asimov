{
 "cells": [
  {
   "cell_type": "markdown",
   "metadata": {},
   "source": [
    "# CharacterTextSplitter"
   ]
  },
  {
   "cell_type": "code",
   "execution_count": 2,
   "metadata": {},
   "outputs": [],
   "source": [
    "from langchain_text_splitters import CharacterTextSplitter"
   ]
  },
  {
   "cell_type": "code",
   "execution_count": 11,
   "metadata": {},
   "outputs": [],
   "source": [
    "chunk_size = 50\n",
    "chunk_overlap = 0\n",
    "\n",
    "char_split = CharacterTextSplitter(\n",
    "    chunk_size=chunk_size,\n",
    "    chunk_overlap=chunk_overlap,\n",
    "    separator=''\n",
    ")"
   ]
  },
  {
   "cell_type": "code",
   "execution_count": 12,
   "metadata": {},
   "outputs": [
    {
     "name": "stdout",
     "output_type": "stream",
     "text": [
      "abcdefghijklmnopqrstuvwxyzabcdefghijklmnopqrstuvwxyzabcdefghijklmnopqrstuvwxyzabcdefghijklmnopqrstuvwxyzabcdefghijklmnopqrstuvwxyz\n"
     ]
    }
   ],
   "source": [
    "import string\n",
    "\n",
    "texto = ''.join(f'{string.ascii_lowercase}' for _ in range(5))\n",
    "print(texto)"
   ]
  },
  {
   "cell_type": "code",
   "execution_count": 13,
   "metadata": {},
   "outputs": [
    {
     "data": {
      "text/plain": [
       "3"
      ]
     },
     "execution_count": 13,
     "metadata": {},
     "output_type": "execute_result"
    }
   ],
   "source": [
    "splits = char_split.split_text(texto)\n",
    "len(splits)"
   ]
  },
  {
   "cell_type": "code",
   "execution_count": 17,
   "metadata": {},
   "outputs": [
    {
     "name": "stdout",
     "output_type": "stream",
     "text": [
      "['abcdefghijklmnopqrstuvwxyzabcdefghijklmnopqrstuvwx', 'yzabcdefghijklmnopqrstuvwxyzabcdefghijklmnopqrstuv', 'wxyzabcdefghijklmnopqrstuvwxyz']\n"
     ]
    }
   ],
   "source": [
    "print(splits)"
   ]
  },
  {
   "cell_type": "code",
   "execution_count": 22,
   "metadata": {},
   "outputs": [
    {
     "name": "stdout",
     "output_type": "stream",
     "text": [
      "['Já conhece a lista em Python? Quer entender como', 'manipular listas e quais são suas principais utili', 'dades e métodos? Sabe qual a diferença entre lista', 's e tuplas? Este artigo responde responde isso e m', 'uito mais! Aproveite ao máximo todo o potencial de', 'ssa estrutura de dados essencial para a programaçã', 'o em Python.\\n\\nA lista em Python é uma das estrutur', 'as de dados fundamentais da linguagem Python. Além', 'de possuir grande versatilidade, as listas são ex', 'tremamente relevantes para iniciantes na programaç', 'ão, por incorporar uma variedade de conceitos bási', 'cos de Python como mutabilidade, indexação, iteraç', 'ão e slicing. Mas você já conhece as listas de Pyt', 'hon a fundo?\\n\\nNeste artigo, vamos nos aprofundar n', 'as listas em Python e aprender a utilizá-las em se', 'us códigos. Ao longo do texto, você aprenderá como', 'criar e manipular uma lista em Python, quais os p', 'rincipais métodos de listas, e como elas se relaci', 'onam e com outros tipos de dados de Python, como s', 'trings, tuplas e vetores. Vamos lá!']\n"
     ]
    }
   ],
   "source": [
    "texto = '''\n",
    "Já conhece a lista em Python? Quer entender como manipular listas e quais são suas principais utilidades e métodos? Sabe qual a diferença entre listas e tuplas? Este artigo responde responde isso e muito mais! Aproveite ao máximo todo o potencial dessa estrutura de dados essencial para a programação em Python.\n",
    "\n",
    "A lista em Python é uma das estruturas de dados fundamentais da linguagem Python. Além de possuir grande versatilidade, as listas são extremamente relevantes para iniciantes na programação, por incorporar uma variedade de conceitos básicos de Python como mutabilidade, indexação, iteração e slicing. Mas você já conhece as listas de Python a fundo?\n",
    "\n",
    "Neste artigo, vamos nos aprofundar nas listas em Python e aprender a utilizá-las em seus códigos. Ao longo do texto, você aprenderá como criar e manipular uma lista em Python, quais os principais métodos de listas, e como elas se relacionam e com outros tipos de dados de Python, como strings, tuplas e vetores. Vamos lá!\n",
    "\n",
    "'''\n",
    "\n",
    "chunk_size = 50\n",
    "chunk_overlap = 0\n",
    "\n",
    "char_split = CharacterTextSplitter(\n",
    "    chunk_size=chunk_size,\n",
    "    chunk_overlap=chunk_overlap,\n",
    "    separator=''\n",
    ")\n",
    "\n",
    "splits = char_split.split_text(texto)\n",
    "print(splits)"
   ]
  },
  {
   "cell_type": "markdown",
   "metadata": {},
   "source": [
    "# RecursiveCharacterTextSplitter"
   ]
  },
  {
   "cell_type": "code",
   "execution_count": 24,
   "metadata": {},
   "outputs": [],
   "source": [
    "from langchain_text_splitters import RecursiveCharacterTextSplitter"
   ]
  },
  {
   "cell_type": "code",
   "execution_count": 32,
   "metadata": {},
   "outputs": [],
   "source": [
    "chunk_size = 50\n",
    "chunk_overlap = 10\n",
    "\n",
    "char_split = RecursiveCharacterTextSplitter(\n",
    "    chunk_size=chunk_size,\n",
    "    chunk_overlap=chunk_overlap,\n",
    "    separators=['.', ' ', '']\n",
    ")"
   ]
  },
  {
   "cell_type": "code",
   "execution_count": 30,
   "metadata": {},
   "outputs": [
    {
     "name": "stdout",
     "output_type": "stream",
     "text": [
      "abcdefghijklmnopqrstuvwxyzabcdefghijklmnopqrstuvwxyzabcdefghijklmnopqrstuvwxyzabcdefghijklmnopqrstuvwxyzabcdefghijklmnopqrstuvwxyz\n"
     ]
    }
   ],
   "source": [
    "import string\n",
    "\n",
    "texto = ''.join(f'{string.ascii_lowercase}' for _ in range(5))\n",
    "print(texto)"
   ]
  },
  {
   "cell_type": "code",
   "execution_count": 33,
   "metadata": {},
   "outputs": [
    {
     "data": {
      "text/plain": [
       "['abcdefghijklmnopqrstuvwxyzabcdefghijklmnopqrstuvwx',\n",
       " 'opqrstuvwxyzabcdefghijklmnopqrstuvwxyzabcdefghijkl',\n",
       " 'cdefghijklmnopqrstuvwxyzabcdefghijklmnopqrstuvwxyz']"
      ]
     },
     "execution_count": 33,
     "metadata": {},
     "output_type": "execute_result"
    }
   ],
   "source": [
    "char_split.split_text(texto)"
   ]
  },
  {
   "cell_type": "code",
   "execution_count": 41,
   "metadata": {},
   "outputs": [
    {
     "data": {
      "text/plain": [
       "['Já conhece a lista em Python? Quer entender como manipular listas e quais são suas principais utilidades e métodos? Sabe qual a diferença entre listas e tuplas? Este artigo responde responde isso e muito mais! Aproveite ao máximo todo o potencial',\n",
       " 'máximo todo o potencial dessa estrutura de dados essencial para a programação em Python.',\n",
       " 'A lista em Python é uma das estruturas de dados fundamentais da linguagem Python. Além de possuir grande versatilidade, as listas são extremamente relevantes para iniciantes na programação, por incorporar uma variedade de conceitos básicos de Python',\n",
       " 'básicos de Python como mutabilidade, indexação, iteração e slicing. Mas você já conhece as listas de Python a fundo?',\n",
       " 'Neste artigo, vamos nos aprofundar nas listas em Python e aprender a utilizá-las em seus códigos. Ao longo do texto, você aprenderá como criar e manipular uma lista em Python, quais os principais métodos de listas, e como elas se relacionam e com',\n",
       " 'elas se relacionam e com outros tipos de dados de Python, como strings, tuplas e vetores. Vamos lá!']"
      ]
     },
     "execution_count": 41,
     "metadata": {},
     "output_type": "execute_result"
    }
   ],
   "source": [
    "texto = '''\n",
    "Já conhece a lista em Python? Quer entender como manipular listas e quais são suas principais utilidades e métodos? Sabe qual a diferença entre listas e tuplas? Este artigo responde responde isso e muito mais! Aproveite ao máximo todo o potencial dessa estrutura de dados essencial para a programação em Python.\n",
    "\n",
    "A lista em Python é uma das estruturas de dados fundamentais da linguagem Python. Além de possuir grande versatilidade, as listas são extremamente relevantes para iniciantes na programação, por incorporar uma variedade de conceitos básicos de Python como mutabilidade, indexação, iteração e slicing. Mas você já conhece as listas de Python a fundo?\n",
    "\n",
    "Neste artigo, vamos nos aprofundar nas listas em Python e aprender a utilizá-las em seus códigos. Ao longo do texto, você aprenderá como criar e manipular uma lista em Python, quais os principais métodos de listas, e como elas se relacionam e com outros tipos de dados de Python, como strings, tuplas e vetores. Vamos lá!\n",
    "\n",
    "'''\n",
    "\n",
    "chunk_size = 250\n",
    "chunk_overlap = 25\n",
    "\n",
    "char_split = RecursiveCharacterTextSplitter(\n",
    "    chunk_size=chunk_size,\n",
    "    chunk_overlap=chunk_overlap,\n",
    "    separators=['\\n\\n', '\\n', ' ', '']\n",
    ")\n",
    "\n",
    "char_split.split_text(texto)"
   ]
  },
  {
   "cell_type": "markdown",
   "metadata": {},
   "source": [
    "# TokenTextSplitter"
   ]
  },
  {
   "cell_type": "code",
   "execution_count": 44,
   "metadata": {},
   "outputs": [],
   "source": [
    "from langchain_text_splitters import TokenTextSplitter\n",
    "\n",
    "chunk_size = 50\n",
    "chunk_overlap = 5\n",
    "\n",
    "token_split = TokenTextSplitter(\n",
    "    chunk_size=chunk_size,\n",
    "    chunk_overlap=chunk_overlap\n",
    ")"
   ]
  },
  {
   "cell_type": "code",
   "execution_count": 45,
   "metadata": {},
   "outputs": [
    {
     "data": {
      "text/plain": [
       "['abcdefghijklmnopqrstuvwxyzabcdefghijklmnopqrstuvwxyzabcdefghijklmnopqrstuvwxyzabcdefghijklmnopq',\n",
       " 'ijklmnopqrstuvwxyzabcdefghijklmnopqrstuvwxyz']"
      ]
     },
     "execution_count": 45,
     "metadata": {},
     "output_type": "execute_result"
    }
   ],
   "source": [
    "import string\n",
    "\n",
    "texto = ''.join(f'{string.ascii_lowercase}' for _ in range(5))\n",
    "\n",
    "token_split.split_text(texto)"
   ]
  },
  {
   "cell_type": "markdown",
   "metadata": {},
   "source": [
    "# MarkdownHeaderTextSplitter"
   ]
  },
  {
   "cell_type": "code",
   "execution_count": 46,
   "metadata": {},
   "outputs": [],
   "source": [
    "markdown_example = '''# Título do Markdown de exemplo\n",
    "## Capítulo 1\n",
    "Texto capítulo 1 e mais e mais texto.\n",
    "Continuamos no capítulo 1!\n",
    "## Capítulo 2\n",
    "Texto capítulo 2 e mais e mais texto.\n",
    "Continuamos no capítulo 2!\n",
    "## Capítulo 3\n",
    "### Seção 3.1\n",
    "Texto capítulo 3 e mais e mais texto.\n",
    "Continuamos no capítulo 3!\n",
    "'''"
   ]
  },
  {
   "cell_type": "code",
   "execution_count": 47,
   "metadata": {},
   "outputs": [],
   "source": [
    "from langchain_text_splitters import MarkdownHeaderTextSplitter\n",
    "\n",
    "header_to_split_on = [\n",
    "    ('#', 'Header 1'),\n",
    "    ('##', 'Header 2'),\n",
    "    ('###', 'Header 3')\n",
    "]\n",
    "\n",
    "md_split = MarkdownHeaderTextSplitter(\n",
    "    headers_to_split_on=header_to_split_on\n",
    ")"
   ]
  },
  {
   "cell_type": "code",
   "execution_count": 49,
   "metadata": {},
   "outputs": [],
   "source": [
    "split = md_split.split_text(markdown_example)"
   ]
  },
  {
   "cell_type": "code",
   "execution_count": 51,
   "metadata": {},
   "outputs": [
    {
     "data": {
      "text/plain": [
       "[Document(metadata={'Header 1': 'Título do Markdown de exemplo', 'Header 2': 'Capítulo 1'}, page_content='Texto capítulo 1 e mais e mais texto.\\nContinuamos no capítulo 1!'),\n",
       " Document(metadata={'Header 1': 'Título do Markdown de exemplo', 'Header 2': 'Capítulo 2'}, page_content='Texto capítulo 2 e mais e mais texto.\\nContinuamos no capítulo 2!'),\n",
       " Document(metadata={'Header 1': 'Título do Markdown de exemplo', 'Header 2': 'Capítulo 3', 'Header 3': 'Seção 3.1'}, page_content='Texto capítulo 3 e mais e mais texto.\\nContinuamos no capítulo 3!')]"
      ]
     },
     "execution_count": 51,
     "metadata": {},
     "output_type": "execute_result"
    }
   ],
   "source": [
    "split"
   ]
  },
  {
   "cell_type": "code",
   "execution_count": 53,
   "metadata": {},
   "outputs": [
    {
     "name": "stdout",
     "output_type": "stream",
     "text": [
      "Texto capítulo 1 e mais e mais texto.\n",
      "Continuamos no capítulo 1!\n",
      "{'Header 1': 'Título do Markdown de exemplo', 'Header 2': 'Capítulo 1'}\n",
      "---------\n",
      "Texto capítulo 2 e mais e mais texto.\n",
      "Continuamos no capítulo 2!\n",
      "{'Header 1': 'Título do Markdown de exemplo', 'Header 2': 'Capítulo 2'}\n",
      "---------\n",
      "Texto capítulo 3 e mais e mais texto.\n",
      "Continuamos no capítulo 3!\n",
      "{'Header 1': 'Título do Markdown de exemplo', 'Header 2': 'Capítulo 3', 'Header 3': 'Seção 3.1'}\n",
      "---------\n"
     ]
    }
   ],
   "source": [
    "for doc in split:\n",
    "    print(doc.page_content)\n",
    "    print(doc.metadata)\n",
    "    print('---------')"
   ]
  },
  {
   "cell_type": "markdown",
   "metadata": {},
   "source": [
    "# Split documents"
   ]
  },
  {
   "cell_type": "code",
   "execution_count": 60,
   "metadata": {},
   "outputs": [],
   "source": [
    "from langchain_community.document_loaders.pdf import PyPDFLoader\n",
    "from langchain_text_splitters import RecursiveCharacterTextSplitter\n",
    "\n",
    "chunk_size = 50\n",
    "chunk_overlap = 10\n",
    "\n",
    "char_split = RecursiveCharacterTextSplitter(\n",
    "    chunk_size=chunk_size,\n",
    "    chunk_overlap=chunk_overlap\n",
    ")"
   ]
  },
  {
   "cell_type": "code",
   "execution_count": 62,
   "metadata": {},
   "outputs": [
    {
     "data": {
      "text/plain": [
       "Document(metadata={'source': 'arquivos/Explorando o Universo das IAs com Hugging Face.pdf', 'page': 0}, page_content='Explorando o Universo das IAs com\\nHugging Face\\nAsimov Academy')"
      ]
     },
     "execution_count": 62,
     "metadata": {},
     "output_type": "execute_result"
    }
   ],
   "source": [
    "caminho = 'arquivos/Explorando o Universo das IAs com Hugging Face.pdf'\n",
    "loader = PyPDFLoader(caminho)\n",
    "docs = loader.load()\n",
    "\n",
    "docs[0]"
   ]
  },
  {
   "cell_type": "code",
   "execution_count": 64,
   "metadata": {},
   "outputs": [
    {
     "data": {
      "text/plain": [
       "3087"
      ]
     },
     "execution_count": 64,
     "metadata": {},
     "output_type": "execute_result"
    }
   ],
   "source": [
    "splits = char_split.split_documents(docs)\n",
    "len(splits)"
   ]
  }
 ],
 "metadata": {
  "kernelspec": {
   "display_name": ".venv",
   "language": "python",
   "name": "python3"
  },
  "language_info": {
   "codemirror_mode": {
    "name": "ipython",
    "version": 3
   },
   "file_extension": ".py",
   "mimetype": "text/x-python",
   "name": "python",
   "nbconvert_exporter": "python",
   "pygments_lexer": "ipython3",
   "version": "3.11.9"
  }
 },
 "nbformat": 4,
 "nbformat_minor": 2
}
