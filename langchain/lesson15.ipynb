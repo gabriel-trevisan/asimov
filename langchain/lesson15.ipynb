{
 "cells": [
  {
   "cell_type": "markdown",
   "metadata": {},
   "source": [
    "# Chat and RAG"
   ]
  },
  {
   "cell_type": "code",
   "execution_count": 4,
   "metadata": {},
   "outputs": [],
   "source": [
    "from langchain_community.document_loaders.pdf import PyPDFLoader\n",
    "from langchain_text_splitters import RecursiveCharacterTextSplitter\n",
    "from langchain_openai import OpenAIEmbeddings\n",
    "from langchain_community.vectorstores.chroma import Chroma"
   ]
  },
  {
   "cell_type": "code",
   "execution_count": 3,
   "metadata": {},
   "outputs": [],
   "source": [
    "caminhos = [\n",
    "    \"arquivos/Explorando o Universo das IAs com Hugging Face.pdf\",\n",
    "    \"arquivos/Explorando a API da OpenAI.pdf\"\n",
    "]\n",
    "\n",
    "paginas = []\n",
    "\n",
    "for caminho in caminhos:\n",
    "    loader = PyPDFLoader(caminho)\n",
    "    paginas.extend(loader.load())\n",
    "\n",
    "recur_split = RecursiveCharacterTextSplitter(\n",
    "    chunk_size=1000,\n",
    "    chunk_overlap=100,\n",
    "    separators=[\"\\n\\n\", \"\\n\", \".\", \" \", \"\"]\n",
    ")\n",
    "\n",
    "documents = recur_split.split_documents(paginas)\n",
    "\n",
    "for i, doc in enumerate(documents):\n",
    "    doc.metadata['source'] = doc.metadata['source'].replace('arquivos/', '')\n",
    "    doc.metadata['doc_id'] = i"
   ]
  },
  {
   "cell_type": "code",
   "execution_count": null,
   "metadata": {},
   "outputs": [],
   "source": [
    "diretorio = '/tmp/chat_retrieval'\n",
    "\n",
    "embeddings_model = OpenAIEmbeddings()\n",
    "\n",
    "vectordb = Chroma.from_documents(\n",
    "    documents=documents,\n",
    "    embedding=embeddings_model,\n",
    "    persist_directory=diretorio\n",
    ")"
   ]
  },
  {
   "cell_type": "markdown",
   "metadata": {},
   "source": [
    "# Create structure chat"
   ]
  },
  {
   "cell_type": "code",
   "execution_count": 7,
   "metadata": {},
   "outputs": [],
   "source": [
    "from langchain_openai.chat_models import ChatOpenAI\n",
    "\n",
    "chat = ChatOpenAI(model='gpt-3.5-turbo-0125')"
   ]
  },
  {
   "cell_type": "code",
   "execution_count": 10,
   "metadata": {},
   "outputs": [],
   "source": [
    "from langchain.chains.retrieval_qa.base import RetrievalQA\n",
    "\n",
    "chat_chain = RetrievalQA.from_chain_type(\n",
    "    llm=chat,\n",
    "    retriever=vectordb.as_retriever(search_type='mmr')\n",
    ")"
   ]
  },
  {
   "cell_type": "code",
   "execution_count": 11,
   "metadata": {},
   "outputs": [
    {
     "name": "stderr",
     "output_type": "stream",
     "text": [
      "Failed to send telemetry event CollectionQueryEvent: capture() takes 1 positional argument but 3 were given\n"
     ]
    },
    {
     "data": {
      "text/plain": [
       "{'query': 'O que é Hugging Face e como faço para acessá-lo?',\n",
       " 'result': 'Hugging Face é uma plataforma que oferece modelos de inteligência artificial, datasets e outros recursos relacionados a IA. Para acessá-lo, você pode criar uma conta no site do Hugging Face e explorar os modelos, datasets e comunidade disponíveis na plataforma. Além disso, para acessar modelos restritos, você pode solicitar acesso seguindo as instruções específicas de cada modelo.'}"
      ]
     },
     "execution_count": 11,
     "metadata": {},
     "output_type": "execute_result"
    }
   ],
   "source": [
    "pergunta = 'O que é Hugging Face e como faço para acessá-lo?'\n",
    "chat_chain.invoke({'query': pergunta})"
   ]
  },
  {
   "cell_type": "markdown",
   "metadata": {},
   "source": [
    "# Modify prompt chain"
   ]
  },
  {
   "cell_type": "code",
   "execution_count": 13,
   "metadata": {},
   "outputs": [],
   "source": [
    "from langchain.prompts import PromptTemplate\n",
    "\n",
    "chain_prompt = PromptTemplate.from_template(''' \n",
    "    Utilize o contexto fornecido para responder a pergunta ao final.\n",
    "    Se você não sabe a resposta, apenas diga que não sabe e não tente inventar a resposta.\n",
    "    Utilize três frase no máquimo, mantenha a resposta concisa.\n",
    "                                            \n",
    "    Contexto: {context}\n",
    "                                            \n",
    "    Pergunta: {question}\n",
    "                                            \n",
    "    Resposta:\n",
    "''')"
   ]
  },
  {
   "cell_type": "code",
   "execution_count": 15,
   "metadata": {},
   "outputs": [],
   "source": [
    "chat_chain = RetrievalQA.from_chain_type(\n",
    "    llm=chat,\n",
    "    retriever=vectordb.as_retriever(search_type='mmr'),\n",
    "    chain_type_kwargs={'prompt': chain_prompt},\n",
    "    return_source_documents=True\n",
    ")"
   ]
  },
  {
   "cell_type": "code",
   "execution_count": 16,
   "metadata": {},
   "outputs": [
    {
     "data": {
      "text/plain": [
       "{'query': 'O que é Hugging Face e como faço para acessá-lo?',\n",
       " 'result': 'Hugging Face é uma plataforma que oferece modelos de IA e datasets. \\nPara acessá-lo, é necessário criar uma conta e solicitar acesso aos modelos desejados. \\nA comunidade do Hugging Face oferece suporte e recursos para facilitar o uso das bibliotecas de IA.',\n",
       " 'source_documents': [Document(metadata={'doc_id': 1, 'page': 1, 'source': 'Explorando o Universo das IAs com Hugging Face.pdf'}, page_content='Explorando o Universo das IAs com Hugging Face\\nConteúdo\\n01. O que é Hugging Face? 5\\nAfinal, o que é Hugging Face? . . . . . . . . . . . . . . . . . . . . . . . . . . . . . . . . . . 5\\nÉ tudo aberto mesmo? . . . . . . . . . . . . . . . . . . . . . . . . . . . . . . . . . . . 6\\nComo usaremos o Hugging Face? . . . . . . . . . . . . . . . . . . . . . . . . . . . . . . . . 6\\n02. A plataforma Hugging Face 7\\nModelos . . . . . . . . . . . . . . . . . . . . . . . . . . . . . . . . . . . . . . . . . . . . . . 7\\nPágina de um modelo . . . . . . . . . . . . . . . . . . . . . . . . . . . . . . . . . . . 8\\nDatasets . . . . . . . . . . . . . . . . . . . . . . . . . . . . . . . . . . . . . . . . . . . . . . 10\\nSpaces . . . . . . . . . . . . . . . . . . . . . . . . . . . . . . . . . . . . . . . . . . . . . . . 10\\n03. Testando nossa primeira IA em tempo recorde 14\\nNossa primeira IA . . . . . . . . . . . . . . . . . . . . . . . . . . . . . . . . . . . . . . . . . 14'),\n",
       "  Document(metadata={'doc_id': 89, 'page': 45, 'source': 'Explorando o Universo das IAs com Hugging Face.pdf'}, page_content='Explorando o Universo das IAs com Hugging Face\\nFigure 19: Criando uma conta no Hugging Face\\nPedindo acesso a um modelo\\nDe volta na página do modelo, você deverá ver um botão para solicitar acesso. O processo é diferente\\npara cada modelo restrito. No caso do modelo do Google, basta ler e concordar com termos de uso.\\nAsimov Academy 45'),\n",
       "  Document(metadata={'doc_id': 139, 'page': 71, 'source': 'Explorando o Universo das IAs com Hugging Face.pdf'}, page_content='Explorando o Universo das IAs com Hugging Face\\n16. Conhecendo a comunidade do Hugging Face\\nComo já falamos anteriormente, o Hugging Face tem o tamanho que tem principalmente por causa de\\nsua comunidade. Vamos explorar alguns pontos relacionados a ela nesta aula.\\nPágina inicial\\nQuando você abrir a página inicial do Hugging Face enquanto está logado, verá diversas opções\\nrelacionadas à comunidade. Você receberá sugestões de perfis ou organizações para seguir, e pode\\nacompanhar os “posts” (atualizações) de cada perfil.\\nFigure 25: Página inicial do Hugging Face quando você está logado.\\nOpções de comunidade\\nNo menu à direita, é possível selecionar diversas opções de comunidade, como artigos de blog, páginas\\nde cursos do próprio Hugging Face, e acessos ao servidor de Discord, ao Forum e ao GitHub oficial.\\nAsimov Academy 71'),\n",
       "  Document(metadata={'doc_id': 76, 'page': 38, 'source': 'Explorando o Universo das IAs com Hugging Face.pdf'}, page_content='as bibliotecas do Hugging Face são extremamente práticas. Portanto, se você sentir que está fazendo\\nalgo de forma “muito manual” , procure pela documentação ou comunidade e busque entender se há\\nalguma função ou ferramenta pronta para te ajudar!\\nAsimov Academy 38')]}"
      ]
     },
     "execution_count": 16,
     "metadata": {},
     "output_type": "execute_result"
    }
   ],
   "source": [
    "pergunta = 'O que é Hugging Face e como faço para acessá-lo?'\n",
    "chat_chain.invoke({'query': pergunta})"
   ]
  },
  {
   "cell_type": "markdown",
   "metadata": {},
   "source": [
    "### Stuff"
   ]
  },
  {
   "cell_type": "code",
   "execution_count": 17,
   "metadata": {},
   "outputs": [
    {
     "name": "stdout",
     "output_type": "stream",
     "text": [
      "Hugging Face é uma plataforma que oferece modelos de inteligência artificial, datasets e espaços para colaboração e comunidade. Para acessá-lo, você pode criar uma conta no site do Hugging Face e explorar os recursos disponíveis, como modelos pré-treinados, datasets e interação com a comunidade através de opções como artigos de blog, cursos, servidor de Discord, Forum e GitHub oficial. Além disso, para acessar modelos restritos, você pode solicitar acesso seguindo as instruções específicas para cada modelo.\n"
     ]
    }
   ],
   "source": [
    "chat_chain = RetrievalQA.from_chain_type(\n",
    "    llm=chat,\n",
    "    retriever=vectordb.as_retriever(search_type='mmr'),\n",
    "    chain_type='stuff'\n",
    ")\n",
    "\n",
    "pergunta = 'O que é Hugging Face e como faço para acessá-lo?'\n",
    "resposta = chat_chain.invoke({'query': pergunta})\n",
    "print(resposta['result'])"
   ]
  },
  {
   "cell_type": "markdown",
   "metadata": {},
   "source": [
    "### Map Reduce"
   ]
  },
  {
   "cell_type": "code",
   "execution_count": 18,
   "metadata": {},
   "outputs": [
    {
     "name": "stdout",
     "output_type": "stream",
     "text": [
      "Hugging Face é uma plataforma de inteligência artificial que oferece uma variedade de recursos, como modelos pré-treinados, datasets e espaços de colaboração para processamento de linguagem natural. Para acessá-lo, você pode visitar o site oficial da Hugging Face em https://huggingface.co/ e criar uma conta na plataforma. Uma vez cadastrado e logado, você terá acesso aos diversos recursos disponíveis, como modelos de IA, ferramentas de processamento de linguagem natural e comunidade de desenvolvedores.\n"
     ]
    }
   ],
   "source": [
    "chat_chain = RetrievalQA.from_chain_type(\n",
    "    llm=chat,\n",
    "    retriever=vectordb.as_retriever(search_type='mmr'),\n",
    "    chain_type='map_reduce'\n",
    ")\n",
    "\n",
    "pergunta = 'O que é Hugging Face e como faço para acessá-lo?'\n",
    "resposta = chat_chain.invoke({'query': pergunta})\n",
    "print(resposta['result'])"
   ]
  },
  {
   "cell_type": "markdown",
   "metadata": {},
   "source": [
    "### Refine"
   ]
  },
  {
   "cell_type": "code",
   "execution_count": 19,
   "metadata": {},
   "outputs": [
    {
     "name": "stdout",
     "output_type": "stream",
     "text": [
      "Hugging Face is a platform that offers various resources related to artificial intelligence, including pre-trained models, datasets, and collaboration spaces. One of the key features of Hugging Face is its active and engaged community. By accessing the platform's homepage and logging in, you can interact with other community members, follow profiles and organizations, and stay updated on relevant posts.\n",
      "\n",
      "Additionally, the platform provides a range of community options such as blog articles, course pages, access to the Discord server, forum, and official GitHub. These options allow users to engage with the community, share knowledge, and participate in discussions about artificial intelligence.\n",
      "\n",
      "The libraries provided by Hugging Face are extremely practical. If you find yourself doing something in a \"very manual\" way, you can refer to the documentation or community to understand if there is a pre-built function or tool to help you. This can streamline your workflow and make your AI development process more efficient. \n",
      "\n",
      "Therefore, to access Hugging Face and explore all the resources and possibilities offered by the platform, you can visit the official website at https://huggingface.co/ and engage with the active and collaborative community of Hugging Face.\n"
     ]
    }
   ],
   "source": [
    "chat_chain = RetrievalQA.from_chain_type(\n",
    "    llm=chat,\n",
    "    retriever=vectordb.as_retriever(search_type='mmr'),\n",
    "    chain_type='refine'\n",
    ")\n",
    "\n",
    "pergunta = 'O que é Hugging Face e como faço para acessá-lo?'\n",
    "resposta = chat_chain.invoke({'query': pergunta})\n",
    "print(resposta['result'])"
   ]
  }
 ],
 "metadata": {
  "kernelspec": {
   "display_name": ".venv",
   "language": "python",
   "name": "python3"
  },
  "language_info": {
   "codemirror_mode": {
    "name": "ipython",
    "version": 3
   },
   "file_extension": ".py",
   "mimetype": "text/x-python",
   "name": "python",
   "nbconvert_exporter": "python",
   "pygments_lexer": "ipython3",
   "version": "3.11.9"
  }
 },
 "nbformat": 4,
 "nbformat_minor": 2
}
