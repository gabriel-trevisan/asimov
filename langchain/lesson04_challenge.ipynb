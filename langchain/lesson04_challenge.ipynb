{
 "cells": [
  {
   "cell_type": "markdown",
   "metadata": {},
   "source": [
    "Desafio - Output Parsers\n",
    "\n",
    "Para o mesmo exemplo visto em aula da review de um cliente, crie uma estrutura para extrair as seguintes informações:\n",
    "\n",
    "* produto: breve descrição do produto\n",
    "* entrega: cliente ficou satisfeito com a entrega\n",
    "* produto: cliente ficou satisfeito com a produto\n",
    "* atendimento: cliente ficou satisfeito com a atendimento\n",
    "* satisfacao: satisfaçao geral do cliene com a compra"
   ]
  },
  {
   "cell_type": "code",
   "execution_count": 3,
   "metadata": {},
   "outputs": [],
   "source": [
    "from langchain_openai import ChatOpenAI\n",
    "\n",
    "chat = ChatOpenAI()"
   ]
  },
  {
   "cell_type": "code",
   "execution_count": 4,
   "metadata": {},
   "outputs": [],
   "source": [
    "review_cliente = \"\"\"Este soprador de folhas é bastante incrível. Ele tem quatro configurações: sopro de vela, brisa suave, cidade ventosa e tornado. \n",
    "Chegou em dois dias, bem a tempo para o presente de aniversário da minha esposa. Acho que minha esposa gostou tanto que ficou sem palavras. \n",
    "Até agora, fui o único a usá-lo, e tenho usado em todas as manhãs alternadas para limpar as folhas do nosso gramado. \n",
    "É um pouco mais caro do que os outros sopradores de folhas disponíveis no mercado, mas acho que vale a pena pelas características extras.\"\"\""
   ]
  },
  {
   "cell_type": "code",
   "execution_count": 6,
   "metadata": {},
   "outputs": [
    {
     "data": {
      "text/plain": [
       "AvaliacaoCliente(produto='soprador de folhas', entrega='rápida', atendimento='não mencionado', satisfacao='muito satisfeito')"
      ]
     },
     "execution_count": 6,
     "metadata": {},
     "output_type": "execute_result"
    }
   ],
   "source": [
    "from pydantic import BaseModel, Field\n",
    "\n",
    "class AvaliacaoCliente(BaseModel):\n",
    "    \"\"\"Avalia review do cliente\"\"\"\n",
    "    produto: str = Field(description='Breve descrição do produto')\n",
    "    entrega: str = Field(description='Cliente ficou satisfeito com a entrega')\n",
    "    produto: str = Field(description='Cliente ficou satisfeito com o produto')\n",
    "    atendimento: str = Field(description='Cliente ficou satisfeito com o atendimento')\n",
    "    satisfacao: str = Field(description='Satisfação geral do cliente com a compra')\n",
    "\n",
    "llm_estruturado = chat.with_structured_output(AvaliacaoCliente)\n",
    "resposta = llm_estruturado.invoke(review_cliente)\n",
    "resposta"
   ]
  }
 ],
 "metadata": {
  "kernelspec": {
   "display_name": ".venv",
   "language": "python",
   "name": "python3"
  },
  "language_info": {
   "codemirror_mode": {
    "name": "ipython",
    "version": 3
   },
   "file_extension": ".py",
   "mimetype": "text/x-python",
   "name": "python",
   "nbconvert_exporter": "python",
   "pygments_lexer": "ipython3",
   "version": "3.11.9"
  }
 },
 "nbformat": 4,
 "nbformat_minor": 2
}
