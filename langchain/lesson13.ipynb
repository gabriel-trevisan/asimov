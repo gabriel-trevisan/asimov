{
 "cells": [
  {
   "cell_type": "markdown",
   "metadata": {},
   "source": [
    "# Vector Store"
   ]
  },
  {
   "cell_type": "markdown",
   "metadata": {},
   "source": [
    "### Chroma VectorStore"
   ]
  },
  {
   "cell_type": "code",
   "execution_count": 1,
   "metadata": {},
   "outputs": [],
   "source": [
    "from langchain_community.document_loaders.pdf import PyPDFLoader\n",
    "from langchain_text_splitters import RecursiveCharacterTextSplitter"
   ]
  },
  {
   "cell_type": "markdown",
   "metadata": {},
   "source": [
    "### Document Loading"
   ]
  },
  {
   "cell_type": "code",
   "execution_count": 3,
   "metadata": {},
   "outputs": [],
   "source": [
    "caminho = 'arquivos/Explorando o Universo das IAs com Hugging Face.pdf'\n",
    "loader = PyPDFLoader(caminho)\n",
    "paginas = loader.load()"
   ]
  },
  {
   "cell_type": "code",
   "execution_count": 4,
   "metadata": {},
   "outputs": [
    {
     "data": {
      "text/plain": [
       "89"
      ]
     },
     "execution_count": 4,
     "metadata": {},
     "output_type": "execute_result"
    }
   ],
   "source": [
    "len(paginas)"
   ]
  },
  {
   "cell_type": "markdown",
   "metadata": {},
   "source": [
    "### Text Splitting"
   ]
  },
  {
   "cell_type": "code",
   "execution_count": 5,
   "metadata": {},
   "outputs": [
    {
     "data": {
      "text/plain": [
       "266"
      ]
     },
     "execution_count": 5,
     "metadata": {},
     "output_type": "execute_result"
    }
   ],
   "source": [
    "recur_split = RecursiveCharacterTextSplitter(\n",
    "    chunk_size=500,\n",
    "    chunk_overlap=50,\n",
    "    separators=[\"\\n\\n\", \"\\n\", \".\", \" \", \"\"]\n",
    ")\n",
    "\n",
    "documents = recur_split.split_documents(paginas)\n",
    "len(documents)"
   ]
  },
  {
   "cell_type": "markdown",
   "metadata": {},
   "source": [
    "### Create VectorStore"
   ]
  },
  {
   "cell_type": "code",
   "execution_count": 6,
   "metadata": {},
   "outputs": [],
   "source": [
    "from langchain_openai import OpenAIEmbeddings\n",
    "\n",
    "embeddings_model = OpenAIEmbeddings()"
   ]
  },
  {
   "cell_type": "code",
   "execution_count": null,
   "metadata": {},
   "outputs": [],
   "source": [
    "from langchain_chroma import Chroma\n",
    "\n",
    "diretorio = '/tmp/chroma_vectorstore'\n",
    "\n",
    "vectorstore = Chroma.from_documents(\n",
    "    documents=documents,\n",
    "    embedding=embeddings_model,\n",
    "    persist_directory=diretorio\n",
    ")"
   ]
  },
  {
   "cell_type": "code",
   "execution_count": 22,
   "metadata": {},
   "outputs": [
    {
     "name": "stdout",
     "output_type": "stream",
     "text": [
      "266\n"
     ]
    }
   ],
   "source": [
    "print(vectorstore._collection.count())"
   ]
  },
  {
   "cell_type": "markdown",
   "metadata": {},
   "source": [
    "### Import from disk"
   ]
  },
  {
   "cell_type": "code",
   "execution_count": null,
   "metadata": {},
   "outputs": [],
   "source": [
    "vectorstore = Chroma(\n",
    "    embedding_function=embeddings_model,\n",
    "    persist_directory=diretorio\n",
    ")"
   ]
  },
  {
   "cell_type": "markdown",
   "metadata": {},
   "source": [
    "### Retrieval"
   ]
  },
  {
   "cell_type": "code",
   "execution_count": 25,
   "metadata": {},
   "outputs": [
    {
     "data": {
      "text/plain": [
       "5"
      ]
     },
     "execution_count": 25,
     "metadata": {},
     "output_type": "execute_result"
    }
   ],
   "source": [
    "pergunta = 'O que é o Hugging Face?'\n",
    "\n",
    "docs = vectorstore.similarity_search(pergunta, k=5)\n",
    "len(docs)"
   ]
  },
  {
   "cell_type": "code",
   "execution_count": 26,
   "metadata": {},
   "outputs": [
    {
     "name": "stdout",
     "output_type": "stream",
     "text": [
      "Explorando o Universo das IAs com Hugging Face\n",
      "01. O que é Hugging Face?\n",
      "Bem-vindos ao curso de Hugging Face da Asimov Academy!\n",
      "Neste curso, vamos explorar as principais utilidades da plataforma de IAHugging Face. Aprenderemos\n",
      "como utilizar a plataforma ao máximo, e como incorporar as bibliotecas de Python do Hugging Face\n",
      "aos nossos scripts de Python.\n",
      "Afinal, o que é Hugging Face?\n",
      "A Hugging Face é uma empresa que iniciou em 2017 na França, com o desenvolvimento de Chatbots.\n",
      "----- {'page': 5, 'source': 'arquivos/Explorando o Universo das IAs com Hugging Face.pdf'}\n",
      "\n",
      "\n",
      "Explorando o Universo das IAs com Hugging Face\n",
      "Conteúdo\n",
      "01. O que é Hugging Face? 5\n",
      "Afinal, o que é Hugging Face? . . . . . . . . . . . . . . . . . . . . . . . . . . . . . . . . . . 5\n",
      "É tudo aberto mesmo? . . . . . . . . . . . . . . . . . . . . . . . . . . . . . . . . . . . 6\n",
      "Como usaremos o Hugging Face? . . . . . . . . . . . . . . . . . . . . . . . . . . . . . . . . 6\n",
      "02. A plataforma Hugging Face 7\n",
      "----- {'page': 1, 'source': 'arquivos/Explorando o Universo das IAs com Hugging Face.pdf'}\n",
      "\n",
      "\n",
      "O Hugging Face cobra apenas se você quiser utilizar a infraestrutura deles para hospedar algum\n",
      "projeto privado pessoal ou da sua empresa.\n",
      "Como usaremos o Hugging Face?\n",
      "Neste curso, vamos explorar todo o potencial que existe na plataforma do Hugging Face. Isso inclui\n",
      "entender como acessar os modelos, conjuntos de dados, e aplicativos (os chamados “Spaces”) que\n",
      "estão na plataforma. (Note que vamos usar bastante o termo “modelos” , que é um pouco mais técnico\n",
      "que IAs.)\n",
      "----- {'page': 6, 'source': 'arquivos/Explorando o Universo das IAs com Hugging Face.pdf'}\n",
      "\n",
      "\n",
      "Explorando o Universo das IAs com Hugging Face\n",
      "02. A plataforma Hugging Face\n",
      "A plataforma Hugging Face é dividida em 3 principais áreas:\n",
      "• Modelos: aqui você consegue buscar e visualizar todos os modelos de IA que estão na plataforma.\n",
      "• Spaces: estes são aplicativos web de IA rodando na estrutura do Hugging Face, produzidos pela\n",
      "comunidade.\n",
      "• Datasets: aqui estão depositados conjuntos de dados usados pra treinar modelos de IA. Alguns\n",
      "----- {'page': 7, 'source': 'arquivos/Explorando o Universo das IAs com Hugging Face.pdf'}\n",
      "\n",
      "\n",
      "Explorando o Universo das IAs com Hugging Face\n",
      "Hugging Face, desde que você utilize a configuração mais básica.\n",
      "Figure 27: Página inicial dos Spaces do Hugging Face\n",
      "Este link apresenta os principais features dos Spaces do Hugging Face.\n",
      "Asimov Academy 73\n",
      "----- {'page': 73, 'source': 'arquivos/Explorando o Universo das IAs com Hugging Face.pdf'}\n",
      "\n",
      "\n"
     ]
    }
   ],
   "source": [
    "for doc in docs:\n",
    "    print(doc.page_content)\n",
    "    print(f'----- {doc.metadata}\\n\\n')"
   ]
  }
 ],
 "metadata": {
  "kernelspec": {
   "display_name": ".venv",
   "language": "python",
   "name": "python3"
  },
  "language_info": {
   "codemirror_mode": {
    "name": "ipython",
    "version": 3
   },
   "file_extension": ".py",
   "mimetype": "text/x-python",
   "name": "python",
   "nbconvert_exporter": "python",
   "pygments_lexer": "ipython3",
   "version": "3.11.9"
  }
 },
 "nbformat": 4,
 "nbformat_minor": 2
}
