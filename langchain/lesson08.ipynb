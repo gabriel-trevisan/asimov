{
 "cells": [
  {
   "cell_type": "markdown",
   "metadata": {},
   "source": [
    "# Routing"
   ]
  },
  {
   "cell_type": "code",
   "execution_count": 2,
   "metadata": {},
   "outputs": [],
   "source": [
    "from langchain_openai import ChatOpenAI\n",
    "from langchain_core.prompts import ChatPromptTemplate\n",
    "\n",
    "model = ChatOpenAI(model='gpt-4o-mini')\n",
    "\n",
    "prompt = ChatPromptTemplate.from_template(''' \n",
    "    Você é um professor de matemática de ensino fundamental capaz de dar respostas muito detalhadas e didáticas.\n",
    "    Responda a seguinte pergunta de um aluno:\n",
    "    Pergunta: {pergunta}\n",
    "                                          ''')\n",
    "\n",
    "chain_matematica = prompt | model\n",
    "\n",
    "prompt = ChatPromptTemplate.from_template(''' \n",
    "    Você é um professor de física de ensino fundamental capaz de dar respostas muito detalhadas e didáticas.\n",
    "    Responda a seguinte pergunta de um aluno:\n",
    "    Pergunta: {pergunta}\n",
    "                                          ''')\n",
    "\n",
    "chain_fisica = prompt | model\n",
    "\n",
    "prompt = ChatPromptTemplate.from_template(''' \n",
    "    Você é um professor de história de ensino fundamental capaz de dar respostas muito detalhadas e didáticas.\n",
    "    Responda a seguinte pergunta de um aluno:\n",
    "    Pergunta: {pergunta}\n",
    "                                          ''')\n",
    "\n",
    "chain_historia = prompt | model \n",
    "\n",
    "prompt = ChatPromptTemplate.from_template('''{pergunta}''')\n",
    "\n",
    "chain_generica = prompt | model"
   ]
  },
  {
   "cell_type": "code",
   "execution_count": 4,
   "metadata": {},
   "outputs": [
    {
     "data": {
      "text/plain": [
       "Categorizador(area_conhecimento='história')"
      ]
     },
     "execution_count": 4,
     "metadata": {},
     "output_type": "execute_result"
    }
   ],
   "source": [
    "from pydantic import BaseModel, Field\n",
    "\n",
    "prompt = ChatPromptTemplate.from_template('Você deve categorizar a seguinte pergunta: {pergunta}')\n",
    "\n",
    "class Categorizador(BaseModel):\n",
    "    \"\"\"Categorize as perguntas de alunos do ensino fundamental\"\"\"\n",
    "    area_conhecimento: str = Field(description='A área de conhecimento da pergunta feita pelo aluno. \\\n",
    "    Deve ser \"física, matemática, história. Caso não se encaixe em nenhuma delas, retorne \"outra\"')\n",
    "\n",
    "model_estruturado = prompt | model.with_structured_output(Categorizador)\n",
    "model_estruturado.invoke({'pergunta': 'Quando foi a indepêndencia dos estados unidos?'})"
   ]
  },
  {
   "cell_type": "code",
   "execution_count": 9,
   "metadata": {},
   "outputs": [
    {
     "data": {
      "text/plain": [
       "{'pergunta': 'Quando foi a indepêndencia dos estados unidos?',\n",
       " 'categoria': Categorizador(area_conhecimento='história')}"
      ]
     },
     "execution_count": 9,
     "metadata": {},
     "output_type": "execute_result"
    }
   ],
   "source": [
    "from langchain_core.runnables import RunnablePassthrough\n",
    "\n",
    "chain = RunnablePassthrough().assign(categoria=model_estruturado)\n",
    "chain.invoke({'pergunta': 'Quando foi a indepêndencia dos estados unidos?'})"
   ]
  },
  {
   "cell_type": "code",
   "execution_count": 10,
   "metadata": {},
   "outputs": [],
   "source": [
    "def route(input):\n",
    "    if input['categoria'].area_conhecimento == 'matemática':\n",
    "        return chain_matematica\n",
    "    if input['categoria'].area_conhecimento == 'física':\n",
    "        return chain_fisica\n",
    "    if input['categoria'].area_conhecimento == 'história':\n",
    "        return chain_historia\n",
    "    return chain_generica"
   ]
  },
  {
   "cell_type": "code",
   "execution_count": 11,
   "metadata": {},
   "outputs": [
    {
     "data": {
      "text/plain": [
       "AIMessage(content='A independência dos Estados Unidos foi declarada no dia 4 de julho de 1776. Esse evento é muito importante na história americana e é celebrado anualmente como o Dia da Independência.\\n\\nPara entender melhor o contexto, vamos retroceder um pouco no tempo. Durante o século XVIII, as treze colônias britânicas na América do Norte estavam sob domínio do Reino da Grã-Bretanha. Essas colônias eram: Massachusetts, Nova Jersey, Nova York, Virginia, Carolina do Norte, Carolina do Sul, Maryland, Delaware, Pensilvânia, Connecticut, Rhode Island, New Hampshire e Geórgia.\\n\\nOs colonos começaram a se sentir insatisfeitos com o governo britânico por várias razões. Uma das principais queixas era a imposição de impostos sem a representação adequada no Parlamento britânico. Os colonos não tinham representantes que pudessem falar por eles e isso gerou um forte sentimento de injustiça. Frases como \"sem tributação sem representação\" tornaram-se populares.\\n\\nEm resposta a essas insatisfações, os colonos começaram a organizar protestos e a se unir. Em 1775, as tensões aumentaram e eclodiram os primeiros confrontos armados entre as tropas britânicas e os colonos, marcando o início da Guerra da Independência Americana.\\n\\nA declaração oficial da independência foi feita por meio de um documento chamado \"Declaração da Independência\", que foi redigido principalmente por Thomas Jefferson. Nesse documento, os colonos declararam que estavam se separando da Grã-Bretanha e se tornando um país independente. A Declaração também afirmava que todos os homens têm direitos inalienáveis, como a vida, a liberdade e a busca da felicidade.\\n\\nApós a declaração em 1776, a guerra continuou até 1783, quando os Estados Unidos finalmente conseguiram sua independência após vencer a Grã-Bretanha. O Tratado de Paris, assinado em 1783, formalizou essa independência.\\n\\nPortanto, a independência dos Estados Unidos é um marco histórico significativo que não apenas alterou o destino da América, mas também influenciou outros movimentos de independência ao redor do mundo. É um exemplo de luta pela liberdade e pelos direitos civis que ecoa até hoje.', additional_kwargs={'refusal': None}, response_metadata={'token_usage': {'completion_tokens': 473, 'prompt_tokens': 56, 'total_tokens': 529, 'completion_tokens_details': {'accepted_prediction_tokens': 0, 'audio_tokens': 0, 'reasoning_tokens': 0, 'rejected_prediction_tokens': 0}, 'prompt_tokens_details': {'audio_tokens': 0, 'cached_tokens': 0}}, 'model_name': 'gpt-4o-mini-2024-07-18', 'system_fingerprint': 'fp_d77b305a29', 'finish_reason': 'stop', 'logprobs': None}, id='run-a2b3b902-9605-445e-afc6-fe92c8624dd7-0', usage_metadata={'input_tokens': 56, 'output_tokens': 473, 'total_tokens': 529, 'input_token_details': {'audio': 0, 'cache_read': 0}, 'output_token_details': {'audio': 0, 'reasoning': 0}})"
      ]
     },
     "execution_count": 11,
     "metadata": {},
     "output_type": "execute_result"
    }
   ],
   "source": [
    "chain = RunnablePassthrough().assign(categoria=model_estruturado) | route\n",
    "chain.invoke({'pergunta': 'Quando foi a indepêndencia dos estados unidos?'})"
   ]
  },
  {
   "cell_type": "code",
   "execution_count": 12,
   "metadata": {},
   "outputs": [
    {
     "data": {
      "text/plain": [
       "AIMessage(content='Claro! Vamos resolver essa adição de uma forma bem didática.\\n\\nA operação que estamos fazendo é a soma de dois números, que são 1 e 21. A soma é uma das quatro operações básicas da matemática e consiste em juntar valores.\\n\\nAqui está o passo a passo:\\n\\n1. **Identificação dos números**: Temos o número 1 e o número 21. O número 1 é bem simples, e o 21 é um número de dois dígitos.\\n\\n2. **Visualização**: Vamos imaginar que temos 1 maçã e 21 maçãs. Se juntarmos todas essas maçãs, quantas teremos no total?\\n\\n3. **Soma**: Agora, vamos somar:\\n   - Começamos com 1.\\n   - Depois, adicionamos 21 a esse 1.\\n   - Podemos pensar assim: se temos 1 e adicionamos 21, isso significa que estamos contando a partir do 1. Então, vamos contar:\\n     - Se começamos em 1 e contamos até 21, vamos passando pelos números: 2 (que é 1 + 1), 3 (que é 1 + 2), e assim por diante até chegar a 21.\\n\\n4. **Resultado**: Para facilitar, você pode pensar na soma como juntar as duas quantidades:\\n   - 1 + 21 = 22.\\n\\n5. **Conclusão**: Portanto, 1 + 21 é igual a 22!\\n\\nSe você tiver mais perguntas ou dúvidas sobre adição ou qualquer outro assunto de matemática, sinta-se à vontade para perguntar!', additional_kwargs={'refusal': None}, response_metadata={'token_usage': {'completion_tokens': 328, 'prompt_tokens': 53, 'total_tokens': 381, 'completion_tokens_details': {'accepted_prediction_tokens': 0, 'audio_tokens': 0, 'reasoning_tokens': 0, 'rejected_prediction_tokens': 0}, 'prompt_tokens_details': {'audio_tokens': 0, 'cached_tokens': 0}}, 'model_name': 'gpt-4o-mini-2024-07-18', 'system_fingerprint': 'fp_34a54ae93c', 'finish_reason': 'stop', 'logprobs': None}, id='run-2eeb2120-276b-410e-b11e-1c63570e83c8-0', usage_metadata={'input_tokens': 53, 'output_tokens': 328, 'total_tokens': 381, 'input_token_details': {'audio': 0, 'cache_read': 0}, 'output_token_details': {'audio': 0, 'reasoning': 0}})"
      ]
     },
     "execution_count": 12,
     "metadata": {},
     "output_type": "execute_result"
    }
   ],
   "source": [
    "chain.invoke({'pergunta': 'Quanto é 1 + 21?'})"
   ]
  }
 ],
 "metadata": {
  "kernelspec": {
   "display_name": ".venv",
   "language": "python",
   "name": "python3"
  },
  "language_info": {
   "codemirror_mode": {
    "name": "ipython",
    "version": 3
   },
   "file_extension": ".py",
   "mimetype": "text/x-python",
   "name": "python",
   "nbconvert_exporter": "python",
   "pygments_lexer": "ipython3",
   "version": "3.11.9"
  }
 },
 "nbformat": 4,
 "nbformat_minor": 2
}
