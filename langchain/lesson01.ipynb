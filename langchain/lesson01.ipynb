{
 "cells": [
  {
   "cell_type": "code",
   "execution_count": 19,
   "metadata": {},
   "outputs": [],
   "source": [
    "from langchain_openai import OpenAI\n",
    "\n",
    "llm = OpenAI()"
   ]
  },
  {
   "cell_type": "code",
   "execution_count": 28,
   "metadata": {},
   "outputs": [],
   "source": [
    "pergunta = 'Conte uma história breve sobre a jornada de aprender a programar'"
   ]
  },
  {
   "cell_type": "markdown",
   "metadata": {},
   "source": [
    "Stream de Resposta"
   ]
  },
  {
   "cell_type": "code",
   "execution_count": 24,
   "metadata": {},
   "outputs": [
    {
     "name": "stdout",
     "output_type": "stream",
     "text": [
      "\n",
      "\n",
      "Era uma vez um jovem chamado Lucas, que sempre foi fascinado pelo mundo da tecnologia. Ele ficava maravilhado ao ver os jogos, aplicativos e sites que eram criados por programadores e sonhava em um dia conseguir fazer o mesmo.\n",
      "\n",
      "Porém, Lucas não tinha conhecimento algum sobre programação e sempre achou que era algo muito difícil de aprender. Mas um dia, ele conheceu um grupo de amigos que estudavam programação e se interessou ainda mais pelo assunto.\n",
      "\n",
      "Decidido a aprender a programar, Lucas começou a buscar cursos online e livros para iniciantes. No começo, ele ficou um pouco perdido com tantos códigos e termos técnicos, mas não desistiu. Ele dedicava horas do seu dia para estudar, praticar e tirar dúvidas com seus amigos.\n",
      "\n",
      "Com o tempo, Lucas foi entendendo melhor os conceitos e linguagens de programação. Ele ficava empolgado a cada pequena conquista, como conseguir fazer um programa simples ou criar um site básico. E a cada desafio que surgia, ele se esforçava ainda mais para superá-lo"
     ]
    }
   ],
   "source": [
    "for trecho in llm.stream(pergunta):\n",
    "    print(trecho, end='')"
   ]
  },
  {
   "cell_type": "markdown",
   "metadata": {},
   "source": [
    "Chamadas simultâneas"
   ]
  },
  {
   "cell_type": "code",
   "execution_count": 29,
   "metadata": {},
   "outputs": [
    {
     "data": {
      "text/plain": [
       "['\\n\\nO céu é uma região ou espaço acima da superfície da Terra, onde podem ser observados o Sol, as estrelas, a Lua, as nuvens e outras formações astronômicas. É considerado como o domínio dos deuses ou de seres divinos em diversas crenças religiosas e também pode ser interpretado como uma representação simbólica de um lugar de paz, felicidade e harmonia. Na ciência, o céu é definido como a atmosfera que envolve o planeta e que é composta por camadas de gases e partículas.',\n",
       " '\\n\\nA terra é o terceiro planeta do sistema solar, localizado entre Vênus e Marte, e é o único conhecido até o momento a abrigar vida. É um planeta rochoso e possui uma atmosfera composta principalmente por nitrogênio e oxigênio, que permite a existência de seres vivos. É também o maior dos planetas terrestres e possui uma grande diversidade de ecossistemas e formas de vida. A terra é o lar de milhões de espécies, incluindo os seres humanos, e é considerada um planeta único e especial no universo. Além disso, a terra é também o único lugar conhecido onde existem oceanos e água líquida em abundância, o que é essencial para a manutenção da vida. ']"
      ]
     },
     "execution_count": 29,
     "metadata": {},
     "output_type": "execute_result"
    }
   ],
   "source": [
    "perguntas = [\n",
    "    'O que é o céu?',\n",
    "    'O que é a terra?'\n",
    "]\n",
    "\n",
    "llm.batch(perguntas)"
   ]
  },
  {
   "cell_type": "markdown",
   "metadata": {},
   "source": [
    "ChatModels"
   ]
  },
  {
   "cell_type": "code",
   "execution_count": 30,
   "metadata": {},
   "outputs": [],
   "source": [
    "from langchain_openai import ChatOpenAI\n",
    "\n",
    "chat = ChatOpenAI(model='gpt-4.1-nano')\n"
   ]
  },
  {
   "cell_type": "code",
   "execution_count": 33,
   "metadata": {},
   "outputs": [],
   "source": [
    "from langchain_core.messages import HumanMessage, SystemMessage\n",
    "\n",
    "mensagens = [\n",
    "    SystemMessage(content=\"Você é um assistente que conta piadas.\"),\n",
    "    HumanMessage(content='Quanto é 1+1?')\n",
    "]\n",
    "\n",
    "resposta = chat.invoke(mensagens)"
   ]
  },
  {
   "cell_type": "code",
   "execution_count": 36,
   "metadata": {},
   "outputs": [
    {
     "name": "stdout",
     "output_type": "stream",
     "text": [
      "Por que o 1+1 foi ao terapeuta? Porque ele estava se sentindo um pouco \"um mais um\"!\n"
     ]
    }
   ],
   "source": [
    "print(resposta.content)"
   ]
  },
  {
   "cell_type": "code",
   "execution_count": 38,
   "metadata": {},
   "outputs": [
    {
     "name": "stdout",
     "output_type": "stream",
     "text": [
      "{'token_usage': {'completion_tokens': 25, 'prompt_tokens': 28, 'total_tokens': 53, 'completion_tokens_details': {'accepted_prediction_tokens': 0, 'audio_tokens': 0, 'reasoning_tokens': 0, 'rejected_prediction_tokens': 0}, 'prompt_tokens_details': {'audio_tokens': 0, 'cached_tokens': 0}}, 'model_name': 'gpt-4.1-nano-2025-04-14', 'system_fingerprint': None, 'finish_reason': 'stop', 'logprobs': None}\n"
     ]
    }
   ],
   "source": [
    "print(resposta.response_metadata)"
   ]
  }
 ],
 "metadata": {
  "kernelspec": {
   "display_name": "Python 3",
   "language": "python",
   "name": "python3"
  },
  "language_info": {
   "codemirror_mode": {
    "name": "ipython",
    "version": 3
   },
   "file_extension": ".py",
   "mimetype": "text/x-python",
   "name": "python",
   "nbconvert_exporter": "python",
   "pygments_lexer": "ipython3",
   "version": "3.11.9"
  }
 },
 "nbformat": 4,
 "nbformat_minor": 2
}
