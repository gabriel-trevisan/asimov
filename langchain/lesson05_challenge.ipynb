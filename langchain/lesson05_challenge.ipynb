{
 "cells": [
  {
   "cell_type": "markdown",
   "metadata": {},
   "source": [
    "Desafio - Chains com LCEL\n",
    "\n",
    "Crie as seguintes chains:\n",
    "\n",
    "1) Uma chain para pegar um texto em outra língua para o português\n",
    "2) Uma para resumir um texto\n",
    "3) Uma chain que é a combinação da chain 1 com a chain 2\n",
    "\n"
   ]
  },
  {
   "cell_type": "markdown",
   "metadata": {},
   "source": [
    "### 1. Chain"
   ]
  },
  {
   "cell_type": "code",
   "execution_count": 16,
   "metadata": {},
   "outputs": [
    {
     "data": {
      "text/plain": [
       "'Estou aprendendo Inteligência Artificial na Asimov = I am learning Artificial Intelligence at Asimov.'"
      ]
     },
     "execution_count": 16,
     "metadata": {},
     "output_type": "execute_result"
    }
   ],
   "source": [
    "from langchain_openai import ChatOpenAI\n",
    "from langchain_core.output_parsers import StrOutputParser\n",
    "from langchain_core.prompts import ChatPromptTemplate\n",
    "\n",
    "chat = ChatOpenAI()\n",
    "prompt1 = ChatPromptTemplate.from_template('Traduza a {texto} da lingua inglês para português')\n",
    "chain1 = prompt1 | chat | StrOutputParser()\n",
    "\n",
    "chain1.invoke({'texto': 'Estou aprendendo Inteligência Artificial na Asimov'})"
   ]
  },
  {
   "cell_type": "markdown",
   "metadata": {},
   "source": [
    "### 2. Chain"
   ]
  },
  {
   "cell_type": "code",
   "execution_count": 17,
   "metadata": {},
   "outputs": [
    {
     "data": {
      "text/plain": [
       "'Lucas encontrou um velho relógio em uma loja de antiguidades, deu corda e foi sugado para o passado, caindo em 1920 durante uma festa de jazz. Divertiu-se dançando e conhecendo pessoas incríveis, mas logo percebeu que precisava voltar para sua época. Girou o relógio novamente e voltou ao seu sofá, ansioso para viajar de novo, mas com mais planejamento.'"
      ]
     },
     "execution_count": 17,
     "metadata": {},
     "output_type": "execute_result"
    }
   ],
   "source": [
    "prompt2 = ChatPromptTemplate.from_template('Resuma o seguinte texto: {texto}')\n",
    "chain2 = prompt2 | chat | StrOutputParser()\n",
    "\n",
    "texto = \"\"\"\n",
    "    Era uma vez um cara chamado Lucas, que encontrou um velho relógio em uma loja de antiguidades. \n",
    "    Curioso, ele deu corda e, de repente, foi sugado para o passado! Ele caiu em 1920, no meio de uma festa de jazz. \n",
    "    De terno e chapéu, Lucas se divertiu dançando e conhecendo pessoas incríveis. \n",
    "    Mas logo percebeu que precisava voltar para sua época antes que a festa acabasse. \n",
    "    Com uma ideia rápida, ele girou o relógio novamente e, puff, estava de volta ao seu sofá. \n",
    "    Agora, ele não via a hora de viajar de novo—mas da próxima vez, talvez com mais planejamento!\n",
    "\"\"\"\n",
    "\n",
    "chain2.invoke({'texto': texto})"
   ]
  },
  {
   "cell_type": "markdown",
   "metadata": {},
   "source": [
    "### 3. Chain"
   ]
  },
  {
   "cell_type": "code",
   "execution_count": 19,
   "metadata": {},
   "outputs": [
    {
     "data": {
      "text/plain": [
       "'Lucas found an old watch in an antique shop and was sucked into the past when he wound it up. He landed in 1920 at a jazz party where he had fun dancing and meeting people. He quickly realized he needed to return to his time before the party ended. By spinning the watch again, he was back on his couch. Lucas was excited to travel again, but next time he planned to be more prepared.'"
      ]
     },
     "execution_count": 19,
     "metadata": {},
     "output_type": "execute_result"
    }
   ],
   "source": [
    "chain = chain1 | chain2 \n",
    "\n",
    "chain.invoke({'texto': texto})"
   ]
  }
 ],
 "metadata": {
  "kernelspec": {
   "display_name": ".venv",
   "language": "python",
   "name": "python3"
  },
  "language_info": {
   "codemirror_mode": {
    "name": "ipython",
    "version": 3
   },
   "file_extension": ".py",
   "mimetype": "text/x-python",
   "name": "python",
   "nbconvert_exporter": "python",
   "pygments_lexer": "ipython3",
   "version": "3.11.9"
  }
 },
 "nbformat": 4,
 "nbformat_minor": 2
}
