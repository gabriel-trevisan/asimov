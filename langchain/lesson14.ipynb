{
 "cells": [
  {
   "cell_type": "markdown",
   "metadata": {},
   "source": [
    "# Retrival"
   ]
  },
  {
   "cell_type": "code",
   "execution_count": 2,
   "metadata": {},
   "outputs": [],
   "source": [
    "from langchain_community.document_loaders.pdf import PyPDFLoader\n",
    "from langchain_text_splitters import RecursiveCharacterTextSplitter"
   ]
  },
  {
   "cell_type": "code",
   "execution_count": 4,
   "metadata": {},
   "outputs": [],
   "source": [
    "caminhos = [\n",
    "    \"arquivos/Explorando o Universo das IAs com Hugging Face.pdf\",\n",
    "    \"arquivos/Explorando a API da OpenAI.pdf\",\n",
    "    \"arquivos/Explorando a API da OpenAI.pdf\"\n",
    "]\n",
    "\n",
    "paginas = []\n",
    "\n",
    "for caminho in caminhos:\n",
    "    loader = PyPDFLoader(caminho)\n",
    "    paginas.extend(loader.load())\n",
    "\n",
    "recur_split = RecursiveCharacterTextSplitter(\n",
    "    chunk_size=500,\n",
    "    chunk_overlap=50,\n",
    "    separators=[\"\\n\\n\", \"\\n\", \".\", \" \", \"\"]\n",
    ")\n",
    "\n",
    "documents = recur_split.split_documents(paginas)"
   ]
  },
  {
   "cell_type": "markdown",
   "metadata": {},
   "source": [
    "### Update Metadata"
   ]
  },
  {
   "cell_type": "code",
   "execution_count": 5,
   "metadata": {},
   "outputs": [],
   "source": [
    "for i, doc in enumerate(documents):\n",
    "    doc.metadata['source'] = doc.metadata['source'].replace('arquivos/', '')\n",
    "    doc.metadata['doc_id'] = i"
   ]
  },
  {
   "cell_type": "code",
   "execution_count": 6,
   "metadata": {},
   "outputs": [
    {
     "data": {
      "text/plain": [
       "{'source': 'Explorando o Universo das IAs com Hugging Face.pdf',\n",
       " 'page': 0,\n",
       " 'doc_id': 0}"
      ]
     },
     "execution_count": 6,
     "metadata": {},
     "output_type": "execute_result"
    }
   ],
   "source": [
    "documents[0].metadata"
   ]
  },
  {
   "cell_type": "code",
   "execution_count": 7,
   "metadata": {},
   "outputs": [],
   "source": [
    "from langchain_openai import OpenAIEmbeddings\n",
    "from langchain_community.vectorstores.chroma import Chroma\n",
    "\n",
    "embeddings_model = OpenAIEmbeddings()"
   ]
  },
  {
   "cell_type": "markdown",
   "metadata": {},
   "source": [
    "# Create VectorStore"
   ]
  },
  {
   "cell_type": "code",
   "execution_count": 8,
   "metadata": {},
   "outputs": [
    {
     "name": "stderr",
     "output_type": "stream",
     "text": [
      "Failed to send telemetry event ClientStartEvent: capture() takes 1 positional argument but 3 were given\n",
      "Failed to send telemetry event ClientCreateCollectionEvent: capture() takes 1 positional argument but 3 were given\n"
     ]
    }
   ],
   "source": [
    "diretorio = 'tmp/chroma_retrieval'\n",
    "\n",
    "vectordb = Chroma.from_documents(\n",
    "    documents=documents,\n",
    "    embedding=embeddings_model,\n",
    "    persist_directory=diretorio\n",
    ")"
   ]
  },
  {
   "cell_type": "markdown",
   "metadata": {},
   "source": [
    "### Semantic Search"
   ]
  },
  {
   "cell_type": "code",
   "execution_count": 9,
   "metadata": {},
   "outputs": [
    {
     "name": "stderr",
     "output_type": "stream",
     "text": [
      "Failed to send telemetry event CollectionQueryEvent: capture() takes 1 positional argument but 3 were given\n"
     ]
    },
    {
     "name": "stdout",
     "output_type": "stream",
     "text": [
      "Explorando a API da OpenAI\n",
      "01. Bem-vindos ao curso Explorando a API da OpenAI\n",
      "Olá e bem-vindos ao nosso curso “Explorando a API da OpenAI”! Estou super animado por ter vocês\n",
      "aqui e mal posso esperar para explorarmos juntos esse universo fascinante da programação e da\n",
      "inteligência artificial.\n",
      "Vocês já devem ter percebido que a IA está mudando o jogo em muitos campos, certo? É incrível como\n",
      "ela está transformando a maneira como lidamos com informações e realiza tarefas que antes pareciam\n",
      "---------{'doc_id': 283, 'page': 4, 'source': 'Explorando a API da OpenAI.pdf'}\n",
      "\n",
      "\n",
      "Explorando a API da OpenAI\n",
      "01. Bem-vindos ao curso Explorando a API da OpenAI\n",
      "Olá e bem-vindos ao nosso curso “Explorando a API da OpenAI”! Estou super animado por ter vocês\n",
      "aqui e mal posso esperar para explorarmos juntos esse universo fascinante da programação e da\n",
      "inteligência artificial.\n",
      "Vocês já devem ter percebido que a IA está mudando o jogo em muitos campos, certo? É incrível como\n",
      "ela está transformando a maneira como lidamos com informações e realiza tarefas que antes pareciam\n",
      "---------{'doc_id': 545, 'page': 4, 'source': 'Explorando a API da OpenAI.pdf'}\n",
      "\n",
      "\n",
      "Explorando a API da OpenAI\n",
      "Conteúdo\n",
      "01. Bem-vindos ao curso Explorando a API da OpenAI 4\n",
      "02. Explorando a documentação da API 5\n",
      "O que é uma API? . . . . . . . . . . . . . . . . . . . . . . . . . . . . . . . . . . . . . . . . . 5\n",
      "A OpenAI . . . . . . . . . . . . . . . . . . . . . . . . . . . . . . . . . . . . . . . . . . . . . 6\n",
      "Acessando a documentação da API . . . . . . . . . . . . . . . . . . . . . . . . . . . . . . . 6\n",
      "---------{'doc_id': 529, 'page': 1, 'source': 'Explorando a API da OpenAI.pdf'}\n",
      "\n",
      "\n"
     ]
    }
   ],
   "source": [
    "pergunta = 'O que é a OpenAI?'\n",
    "\n",
    "docs = vectordb.similarity_search(pergunta, k=3)\n",
    "\n",
    "for doc in docs:\n",
    "    print(doc.page_content)\n",
    "    print(f'---------{doc.metadata}\\n\\n')"
   ]
  },
  {
   "cell_type": "code",
   "execution_count": 12,
   "metadata": {},
   "outputs": [
    {
     "name": "stdout",
     "output_type": "stream",
     "text": [
      "Explorando o Universo das IAs com Hugging Face\n",
      "06. Modelos de conversação e geração de texto (chatbots)\n",
      "Vamos aprender agora a usar modelos de conversação, que funcionam de forma parecida com chatbots\n",
      "como ChatGPT . Na realidade, estes modelos estão classificados na tarefa de geração de texto (text\n",
      "generation) no Hugging Face:\n",
      "Figure 16: Página principal da tarefatext-generation do Hugging Face.\n",
      "Vamos utilizar o modelo Felladrin/Llama-68M-Chat-v1, disponível no link a seguir:\n",
      "---------{'doc_id': 86, 'page': 29, 'source': 'Explorando o Universo das IAs com Hugging Face.pdf'}\n",
      "\n",
      "\n",
      "Explorando a API da OpenAI\n",
      "A OpenAI\n",
      "Nosso objetivo é explorar a API da OpenAI, a maior desenvolvedora de ferramentas de inteligência\n",
      "artificial do mundo na atualidade. O modelo ChatGPT é apenas um dos vários modelos criados pela\n",
      "empresa nos últimos anos. A seguir, apresentamos alguns dos principais modelos e suas funções:\n",
      "• GPT-4: Trata-se de um modelo de linguagem de grande escala (LLM) multimodal, que aceita\n",
      "---------{'doc_id': 294, 'page': 6, 'source': 'Explorando a API da OpenAI.pdf'}\n",
      "\n",
      "\n",
      "Explorando a API da OpenAI\n",
      "A OpenAI\n",
      "Nosso objetivo é explorar a API da OpenAI, a maior desenvolvedora de ferramentas de inteligência\n",
      "artificial do mundo na atualidade. O modelo ChatGPT é apenas um dos vários modelos criados pela\n",
      "empresa nos últimos anos. A seguir, apresentamos alguns dos principais modelos e suas funções:\n",
      "• GPT-4: Trata-se de um modelo de linguagem de grande escala (LLM) multimodal, que aceita\n",
      "---------{'doc_id': 556, 'page': 6, 'source': 'Explorando a API da OpenAI.pdf'}\n",
      "\n",
      "\n"
     ]
    }
   ],
   "source": [
    "pergunta = 'O que a postila de Hugging Face fala sobre a OpenAI e o ChatGPT?'\n",
    "\n",
    "docs = vectordb.similarity_search(pergunta, k=3)\n",
    "\n",
    "for doc in docs:\n",
    "    print(doc.page_content)\n",
    "    print(f'---------{doc.metadata}\\n\\n')"
   ]
  },
  {
   "cell_type": "markdown",
   "metadata": {},
   "source": [
    "### MMR"
   ]
  },
  {
   "cell_type": "code",
   "execution_count": 13,
   "metadata": {},
   "outputs": [
    {
     "name": "stdout",
     "output_type": "stream",
     "text": [
      "Explorando a API da OpenAI\n",
      "01. Bem-vindos ao curso Explorando a API da OpenAI\n",
      "Olá e bem-vindos ao nosso curso “Explorando a API da OpenAI”! Estou super animado por ter vocês\n",
      "aqui e mal posso esperar para explorarmos juntos esse universo fascinante da programação e da\n",
      "inteligência artificial.\n",
      "Vocês já devem ter percebido que a IA está mudando o jogo em muitos campos, certo? É incrível como\n",
      "ela está transformando a maneira como lidamos com informações e realiza tarefas que antes pareciam\n",
      "---------{'doc_id': 283, 'page': 4, 'source': 'Explorando a API da OpenAI.pdf'}\n",
      "\n",
      "\n",
      "Explorando a API da OpenAI\n",
      "Guias\n",
      "Também está disponível diversos guias de boas práticas recomendadas ao utilizar os modelos da\n",
      "OpenAI.\n",
      "Asimov Academy 9\n",
      "---------{'doc_id': 299, 'page': 9, 'source': 'Explorando a API da OpenAI.pdf'}\n",
      "\n",
      "\n",
      "Explorando a API da OpenAI\n",
      "A OpenAI\n",
      "Nosso objetivo é explorar a API da OpenAI, a maior desenvolvedora de ferramentas de inteligência\n",
      "artificial do mundo na atualidade. O modelo ChatGPT é apenas um dos vários modelos criados pela\n",
      "empresa nos últimos anos. A seguir, apresentamos alguns dos principais modelos e suas funções:\n",
      "• GPT-4: Trata-se de um modelo de linguagem de grande escala (LLM) multimodal, que aceita\n",
      "---------{'doc_id': 294, 'page': 6, 'source': 'Explorando a API da OpenAI.pdf'}\n",
      "\n",
      "\n"
     ]
    }
   ],
   "source": [
    "pergunta = 'O que é a OpenAI?'\n",
    "\n",
    "docs = vectordb.max_marginal_relevance_search(pergunta, k=3, fetch_k=10)\n",
    "\n",
    "for doc in docs:\n",
    "    print(doc.page_content)\n",
    "    print(f'---------{doc.metadata}\\n\\n')"
   ]
  },
  {
   "cell_type": "markdown",
   "metadata": {},
   "source": [
    "# Filter"
   ]
  },
  {
   "cell_type": "code",
   "execution_count": 16,
   "metadata": {},
   "outputs": [
    {
     "name": "stdout",
     "output_type": "stream",
     "text": [
      "Explorando o Universo das IAs com Hugging Face\n",
      "06. Modelos de conversação e geração de texto (chatbots)\n",
      "Vamos aprender agora a usar modelos de conversação, que funcionam de forma parecida com chatbots\n",
      "como ChatGPT . Na realidade, estes modelos estão classificados na tarefa de geração de texto (text\n",
      "generation) no Hugging Face:\n",
      "Figure 16: Página principal da tarefatext-generation do Hugging Face.\n",
      "Vamos utilizar o modelo Felladrin/Llama-68M-Chat-v1, disponível no link a seguir:\n",
      "---------{'doc_id': 86, 'page': 29, 'source': 'Explorando o Universo das IAs com Hugging Face.pdf'}\n",
      "\n",
      "\n",
      "Explorando o Universo das IAs com Hugging Face\n",
      "Conteúdo\n",
      "01. O que é Hugging Face? 5\n",
      "Afinal, o que é Hugging Face? . . . . . . . . . . . . . . . . . . . . . . . . . . . . . . . . . . 5\n",
      "É tudo aberto mesmo? . . . . . . . . . . . . . . . . . . . . . . . . . . . . . . . . . . . 6\n",
      "Como usaremos o Hugging Face? . . . . . . . . . . . . . . . . . . . . . . . . . . . . . . . . 6\n",
      "02. A plataforma Hugging Face 7\n",
      "---------{'doc_id': 1, 'page': 1, 'source': 'Explorando o Universo das IAs com Hugging Face.pdf'}\n",
      "\n",
      "\n",
      "E a saída:\n",
      "Traduzindo do português para en_XX...\n",
      "Frase original: \"Olá! Estou aprendendo a programar em Python e a usar modelos de inteligência\n",
      "artificial pelo Hugging Face.\"↪→\n",
      "Frase em en_XX: \"Hi! I 'm learning to code in Python and using artificial intelligence models\n",
      "from the Hugging Face.\"↪→\n",
      "Frase original: \"Vamos nos encontrar às 15h da próxima sexta-feira. Eu acho que todos os meus\n",
      "amigos vão estar lá!\"↪→\n",
      "---------{'doc_id': 173, 'page': 54, 'source': 'Explorando o Universo das IAs com Hugging Face.pdf'}\n",
      "\n",
      "\n"
     ]
    }
   ],
   "source": [
    "pergunta = 'O que a postila de Hugging Face fala sobre a OpenAI e o ChatGPT?'\n",
    "\n",
    "docs = vectordb.max_marginal_relevance_search(\n",
    "    pergunta, \n",
    "    k=3, \n",
    "    filter={'source': 'Explorando o Universo das IAs com Hugging Face.pdf'}\n",
    ")\n",
    "\n",
    "for doc in docs:\n",
    "    print(doc.page_content)\n",
    "    print(f'---------{doc.metadata}\\n\\n')"
   ]
  },
  {
   "cell_type": "markdown",
   "metadata": {},
   "source": [
    "# LLM Aided Retrieval"
   ]
  },
  {
   "cell_type": "code",
   "execution_count": 17,
   "metadata": {},
   "outputs": [],
   "source": [
    "from langchain_openai.llms import OpenAI\n",
    "from langchain.retrievers.self_query.base import SelfQueryRetriever\n",
    "from langchain.chains.query_constructor.schema import AttributeInfo"
   ]
  },
  {
   "cell_type": "code",
   "execution_count": 20,
   "metadata": {},
   "outputs": [],
   "source": [
    "metadata_info = [\n",
    "    AttributeInfo(\n",
    "        name='source',\n",
    "        description='Nome da apostila de onde o texto orginal foi retirado. Deve ter o valor de : \\\n",
    "            Explorando o Universo das IAs com Hugging Face.pdf ou Explorando a API da OpenAI.pdf',\n",
    "        type='string'\n",
    "    ),\n",
    "    AttributeInfo(\n",
    "        name='page',\n",
    "        description='A página da apostila de onde o texto se origina',\n",
    "        type='integer'\n",
    "    )\n",
    "]"
   ]
  },
  {
   "cell_type": "code",
   "execution_count": 22,
   "metadata": {},
   "outputs": [],
   "source": [
    "document_description = 'Apostilas de cursos'\n",
    "\n",
    "llm = OpenAI()\n",
    "\n",
    "retriver = SelfQueryRetriever.from_llm(\n",
    "    llm,\n",
    "    vectordb,\n",
    "    document_description,\n",
    "    metadata_info,\n",
    "    verbose=True\n",
    ")"
   ]
  },
  {
   "cell_type": "code",
   "execution_count": 24,
   "metadata": {},
   "outputs": [
    {
     "name": "stderr",
     "output_type": "stream",
     "text": [
      "/tmp/ipykernel_2716/2280243430.py:3: LangChainDeprecationWarning: The method `BaseRetriever.get_relevant_documents` was deprecated in langchain-core 0.1.46 and will be removed in 1.0. Use :meth:`~invoke` instead.\n",
      "  docs = retriver.get_relevant_documents(pergunta)\n"
     ]
    },
    {
     "name": "stdout",
     "output_type": "stream",
     "text": [
      "Explorando o Universo das IAs com Hugging Face\n",
      "06. Modelos de conversação e geração de texto (chatbots)\n",
      "Vamos aprender agora a usar modelos de conversação, que funcionam de forma parecida com chatbots\n",
      "como ChatGPT . Na realidade, estes modelos estão classificados na tarefa de geração de texto (text\n",
      "generation) no Hugging Face:\n",
      "Figure 16: Página principal da tarefatext-generation do Hugging Face.\n",
      "Vamos utilizar o modelo Felladrin/Llama-68M-Chat-v1, disponível no link a seguir:\n",
      "---------{'doc_id': 86, 'page': 29, 'source': 'Explorando o Universo das IAs com Hugging Face.pdf'}\n",
      "\n",
      "\n",
      "from transformers import AutoTokenizer\n",
      "chat = [\n",
      "{\"role\": \"user\", \"content\": \"Olá, qual o seu nome?\"},\n",
      "{\"role\": \"assistant\", \"content\": \"Olá, eu sou um modelo de AI. Como posso ajudar?\"},\n",
      "{\"role\": \"user\", \"content\": \"Gostaria de aprender Python. Você tem alguma dica?\"},\n",
      "]\n",
      "tokenizer_mixtral = AutoTokenizer.from_pretrained( 'mistralai/Mixtral-8x7B-Instruct-v0.1')\n",
      "template_mixtral = tokenizer_mixtral.apply_chat_template(chat, tokenize=False,\n",
      "add_generation_prompt=True)↪→\n",
      "---------{'doc_id': 126, 'page': 38, 'source': 'Explorando o Universo das IAs com Hugging Face.pdf'}\n",
      "\n",
      "\n",
      "Explorando o Universo das IAs com Hugging Face\n",
      "07. Criando uma estrutura de chat\n",
      "Com base nas novas informações, mudaremos nosso código para:\n",
      "from transformers import pipeline\n",
      "chatbot = pipeline(\n",
      "\"text-generation\",\n",
      "model=\"Felladrin/Llama-68M-Chat-v1\",\n",
      "max_new_tokens=300,\n",
      "penalty_alpha=0.5,\n",
      "top_k=4,\n",
      ")\n",
      "# Mensagem para o chatbot deve ficar no formato abaixo:\n",
      "# <|im_start|>system\n",
      "# {system_message}<|im_end|>\n",
      "# <|im_start|>user\n",
      "# {user_message}<|im_end|>\n",
      "# <|im_start|>assistant\n",
      "---------{'doc_id': 94, 'page': 31, 'source': 'Explorando o Universo das IAs com Hugging Face.pdf'}\n",
      "\n",
      "\n",
      "Explorando o Universo das IAs com Hugging Face\n",
      "[{'generated_text': \"<|im_start|>system\\nyou are a helpful artificial intelligence\n",
      "assistant.<|im_end|>\\n<|im_start|>user\\nHi, what is your\n",
      "name?<|im_end|>\\n<|im_start|>assistant\\nSure! I 'm a computer scientist and I can help you\n",
      "with that. It 's a good idea to have a chatbot that can talk to you in the future. You\n",
      "can use a chatbot to chat with your boss, who knows where you are and what you want to do.\n",
      "---------{'doc_id': 97, 'page': 32, 'source': 'Explorando o Universo das IAs com Hugging Face.pdf'}\n",
      "\n",
      "\n"
     ]
    }
   ],
   "source": [
    "pergunta = 'O que a postila de Hugging Face fala sobre a OpenAI e o ChatGPT?'\n",
    "\n",
    "docs = retriver.get_relevant_documents(pergunta)\n",
    "\n",
    "for doc in docs:\n",
    "    print(doc.page_content)\n",
    "    print(f'---------{doc.metadata}\\n\\n')"
   ]
  }
 ],
 "metadata": {
  "kernelspec": {
   "display_name": ".venv",
   "language": "python",
   "name": "python3"
  },
  "language_info": {
   "codemirror_mode": {
    "name": "ipython",
    "version": 3
   },
   "file_extension": ".py",
   "mimetype": "text/x-python",
   "name": "python",
   "nbconvert_exporter": "python",
   "pygments_lexer": "ipython3",
   "version": "3.11.9"
  }
 },
 "nbformat": 4,
 "nbformat_minor": 2
}
